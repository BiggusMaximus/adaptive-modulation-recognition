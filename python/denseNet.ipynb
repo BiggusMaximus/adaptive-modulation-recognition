{
 "cells": [
  {
   "cell_type": "code",
   "execution_count": 1,
   "metadata": {},
   "outputs": [],
   "source": [
    "import h5py\n",
    "import numpy as np\n",
    "import os,random\n",
    "from tensorflow.keras.layers import Input,Add,Reshape,AveragePooling2D,ZeroPadding2D,BatchNormalization,MaxPool2D,Conv1D,Conv2D,Dropout,Flatten,Dense,Activation,MaxPooling2D,AlphaDropout\n",
    "from tensorflow.keras import layers\n",
    "import tensorflow.keras.models as Model\n",
    "from tensorflow.keras.regularizers import *\n",
    "from tensorflow.keras.optimizers import Adam\n",
    "from tensorflow.keras.initializers import GlorotUniform as glorot_uniform\n",
    "import seaborn as sns\n",
    "import tensorflow as tf\n",
    "import matplotlib.pyplot as plt\n",
    "from tensorflow.keras.models import load_model\n",
    "import tensorflow_addons as tfa"
   ]
  },
  {
   "cell_type": "code",
   "execution_count": 6,
   "metadata": {},
   "outputs": [
    {
     "name": "stdout",
     "output_type": "stream",
     "text": [
      "../dataset/part0.h5\n",
      "../dataset/part1.h5\n",
      "../dataset/part2.h5\n",
      "../dataset/part3.h5\n",
      "../dataset/part4.h5\n",
      "../dataset/part5.h5\n",
      "../dataset/part6.h5\n",
      "../dataset/part7.h5\n",
      "../dataset/part8.h5\n",
      "../dataset/part9.h5\n",
      "../dataset/part10.h5\n",
      "../dataset/part11.h5\n",
      "../dataset/part12.h5\n",
      "../dataset/part13.h5\n",
      "../dataset/part14.h5\n",
      "../dataset/part15.h5\n",
      "../dataset/part16.h5\n",
      "X-size： (1080000, 1024, 2)\n",
      "Y-size： (1080000, 24)\n",
      "Z-size： (1080000, 1)\n"
     ]
    }
   ],
   "source": [
    "f = h5py.File(r'../dataset/part0.h5')\n",
    "sample_num = f['X'].shape[0]\n",
    "# idx = np.random.choice(range(0,sample_num),size=3375)\n",
    "idx = np.random.choice(range(0,sample_num),size=60000)\n",
    "X = f['X'][:][idx]\n",
    "Y = f['Y'][:][idx]\n",
    "Z = f['Z'][:][idx]\n",
    "f.close()\n",
    "\n",
    "for i in range(0,17):\n",
    "    filename = r'../dataset/part'+str(i) + '.h5'\n",
    "    print(filename)\n",
    "    f = h5py.File(filename,'r')\n",
    "    X = np.vstack((X,f['X'][:][idx]))\n",
    "    Y = np.vstack((Y,f['Y'][:][idx]))\n",
    "    Z = np.vstack((Z,f['Z'][:][idx]))\n",
    "    f.close()\n",
    "\n",
    "print('X-size：',X.shape)\n",
    "print('Y-size：',Y.shape)\n",
    "print('Z-size：',Z.shape)"
   ]
  },
  {
   "cell_type": "code",
   "execution_count": 8,
   "metadata": {},
   "outputs": [
    {
     "data": {
      "text/plain": [
       "14824"
      ]
     },
     "execution_count": 8,
     "metadata": {},
     "output_type": "execute_result"
    }
   ],
   "source": [
    "872*17"
   ]
  },
  {
   "cell_type": "code",
   "execution_count": 9,
   "metadata": {},
   "outputs": [],
   "source": [
    "g = h5py.File(r'../dataset/part0.h5')"
   ]
  },
  {
   "cell_type": "code",
   "execution_count": 43,
   "metadata": {},
   "outputs": [
    {
     "name": "stdout",
     "output_type": "stream",
     "text": [
      "4096, [-18]\n",
      "8192, [-16]\n",
      "12288, [-14]\n",
      "16384, [-12]\n",
      "20480, [-10]\n",
      "24576, [-8]\n",
      "28672, [-6]\n",
      "32768, [-4]\n",
      "36864, [-2]\n",
      "40960, [0]\n",
      "45056, [2]\n",
      "49152, [4]\n",
      "53248, [6]\n",
      "57344, [8]\n",
      "61440, [10]\n",
      "65536, [12]\n",
      "69632, [14]\n",
      "73728, [16]\n",
      "77824, [18]\n",
      "81920, [20]\n",
      "86016, [22]\n",
      "90112, [24]\n",
      "94208, [26]\n",
      "98304, [28]\n",
      "102400, [30]\n"
     ]
    }
   ],
   "source": [
    "temp = -20\n",
    "for i, data in enumerate(g['Z'][:]):\n",
    "    if temp != data[0]:\n",
    "        print(f\"{i}, {data}\")\n",
    "        temp = data[0]\n",
    "    "
   ]
  },
  {
   "cell_type": "code",
   "execution_count": 41,
   "metadata": {},
   "outputs": [
    {
     "data": {
      "text/plain": [
       "array([-20], dtype=int64)"
      ]
     },
     "execution_count": 41,
     "metadata": {},
     "output_type": "execute_result"
    }
   ],
   "source": [
    "g['Z'][:100][0]"
   ]
  },
  {
   "cell_type": "code",
   "execution_count": null,
   "metadata": {},
   "outputs": [],
   "source": []
  }
 ],
 "metadata": {
  "kernelspec": {
   "display_name": "env",
   "language": "python",
   "name": "python3"
  },
  "language_info": {
   "codemirror_mode": {
    "name": "ipython",
    "version": 3
   },
   "file_extension": ".py",
   "mimetype": "text/x-python",
   "name": "python",
   "nbconvert_exporter": "python",
   "pygments_lexer": "ipython3",
   "version": "3.7.3"
  },
  "orig_nbformat": 4
 },
 "nbformat": 4,
 "nbformat_minor": 2
}
